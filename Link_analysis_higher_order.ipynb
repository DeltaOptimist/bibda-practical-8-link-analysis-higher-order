{
  "nbformat": 4,
  "nbformat_minor": 0,
  "metadata": {
    "colab": {
      "provenance": []
    },
    "kernelspec": {
      "name": "python3",
      "display_name": "Python 3"
    },
    "language_info": {
      "name": "python"
    }
  },
  "cells": [
    {
      "cell_type": "markdown",
      "source": [
        "create a program that demonstrates how to establish higher-order relationships among entities in link analysis using an inbuilt dataset."
      ],
      "metadata": {
        "id": "kip6lLmLZMfm"
      }
    },
    {
      "cell_type": "code",
      "source": [
        "pip install networkx"
      ],
      "metadata": {
        "colab": {
          "base_uri": "https://localhost:8080/"
        },
        "id": "oo9mw9PgVw9K",
        "outputId": "ffefe99a-2693-42d8-cabc-73dcdcb2d29d"
      },
      "execution_count": 2,
      "outputs": [
        {
          "output_type": "stream",
          "name": "stdout",
          "text": [
            "Requirement already satisfied: networkx in /usr/local/lib/python3.10/dist-packages (3.2.1)\n"
          ]
        }
      ]
    },
    {
      "cell_type": "code",
      "source": [
        "import networkx as nx\n",
        "\n",
        "# Create a graph\n",
        "G = nx.Graph()\n",
        "\n"
      ],
      "metadata": {
        "id": "hrC0AaUYVwcn"
      },
      "execution_count": 12,
      "outputs": []
    },
    {
      "cell_type": "code",
      "source": [
        "print(G)"
      ],
      "metadata": {
        "colab": {
          "base_uri": "https://localhost:8080/"
        },
        "id": "Czw9eCb9WJKJ",
        "outputId": "0cec2998-b6ce-47bc-892a-742f105d1c7e"
      },
      "execution_count": 13,
      "outputs": [
        {
          "output_type": "stream",
          "name": "stdout",
          "text": [
            "Graph with 0 nodes and 0 edges\n"
          ]
        }
      ]
    },
    {
      "cell_type": "code",
      "source": [
        "# Add nodes with attributes\n",
        "G.add_node('Alice', role='employee')\n",
        "G.add_node('Bob', role='employee')\n",
        "G.add_node('Charlie', role='manager')\n",
        "G.add_node('David', role='manager')\n",
        "\n"
      ],
      "metadata": {
        "id": "ldiKhrbvV3BQ"
      },
      "execution_count": 14,
      "outputs": []
    },
    {
      "cell_type": "code",
      "source": [
        "# Add edges between nodes\n",
        "G.add_edge('Alice', 'Bob', weight=2)\n",
        "G.add_edge('Alice', 'Charlie', weight=1)\n",
        "G.add_edge('Bob', 'David', weight=3)\n",
        "G.add_edge('Charlie', 'David', weight=1)\n",
        "\n"
      ],
      "metadata": {
        "id": "yiGPbL83V2-a"
      },
      "execution_count": 15,
      "outputs": []
    },
    {
      "cell_type": "code",
      "source": [
        "# Higher-order relationships: Common neighbors\n",
        "common_neighbors = nx.common_neighbors(G, 'Alice', 'David')\n",
        "print(\"Common Neighbors between Alice and David:\", list(common_neighbors))\n",
        "\n"
      ],
      "metadata": {
        "colab": {
          "base_uri": "https://localhost:8080/"
        },
        "id": "51OZ8WEqV27C",
        "outputId": "4f769328-1de6-414a-99b3-00f84992d201"
      },
      "execution_count": 18,
      "outputs": [
        {
          "output_type": "stream",
          "name": "stdout",
          "text": [
            "Common Neighbors between Alice and David: ['Bob', 'Charlie']\n"
          ]
        }
      ]
    },
    {
      "cell_type": "code",
      "source": [
        "# Higher-order relationships: Jaccard Coefficient\n",
        "jaccard_coefficient = nx.jaccard_coefficient(G, [('Alice', 'David')])\n",
        "print(\"Jaccard Coefficient between Alice and David:\", list(jaccard_coefficient))\n",
        "\n"
      ],
      "metadata": {
        "colab": {
          "base_uri": "https://localhost:8080/"
        },
        "id": "no7AjD37V24C",
        "outputId": "91fae865-9aa0-422a-a8a6-b6fc38b5a672"
      },
      "execution_count": 19,
      "outputs": [
        {
          "output_type": "stream",
          "name": "stdout",
          "text": [
            "Jaccard Coefficient between Alice and David: [('Alice', 'David', 1.0)]\n"
          ]
        }
      ]
    },
    {
      "cell_type": "code",
      "source": [
        "# Higher-order relationships: Resource Allocation Index\n",
        "resource_allocation_index = nx.resource_allocation_index(G, [('Alice', 'David')])\n",
        "print(\"Resource Allocation Index between Alice and David:\", list(resource_allocation_index))\n",
        "\n"
      ],
      "metadata": {
        "colab": {
          "base_uri": "https://localhost:8080/"
        },
        "id": "MNZxWLHuV20V",
        "outputId": "154f3ce2-adf0-4fef-c5f2-1fa14ffb3752"
      },
      "execution_count": 20,
      "outputs": [
        {
          "output_type": "stream",
          "name": "stdout",
          "text": [
            "Resource Allocation Index between Alice and David: [('Alice', 'David', 1.0)]\n"
          ]
        }
      ]
    },
    {
      "cell_type": "code",
      "source": [
        "# Higher-order relationships: Adamic-Adar Index\n",
        "adamic_adar_index = nx.adamic_adar_index(G, [('Alice', 'David')])\n",
        "print(\"Adamic-Adar Index between Alice and David:\", list(adamic_adar_index))\n"
      ],
      "metadata": {
        "colab": {
          "base_uri": "https://localhost:8080/"
        },
        "id": "ITilMtfrV2xR",
        "outputId": "5989318a-e755-4058-d201-ec9ec07a237c"
      },
      "execution_count": 21,
      "outputs": [
        {
          "output_type": "stream",
          "name": "stdout",
          "text": [
            "Adamic-Adar Index between Alice and David: [('Alice', 'David', 2.8853900817779268)]\n"
          ]
        }
      ]
    },
    {
      "cell_type": "code",
      "source": [
        "print(G)"
      ],
      "metadata": {
        "colab": {
          "base_uri": "https://localhost:8080/"
        },
        "id": "5HGIjcg3WXUq",
        "outputId": "a0fc6cab-a674-4d5c-bbbc-9d4d5c5c80e1"
      },
      "execution_count": 22,
      "outputs": [
        {
          "output_type": "stream",
          "name": "stdout",
          "text": [
            "Graph with 4 nodes and 4 edges\n"
          ]
        }
      ]
    },
    {
      "cell_type": "markdown",
      "source": [
        "in short if u wana try"
      ],
      "metadata": {
        "id": "3v2OwdfRWE1B"
      }
    },
    {
      "cell_type": "code",
      "execution_count": 1,
      "metadata": {
        "colab": {
          "base_uri": "https://localhost:8080/"
        },
        "id": "619rF1AhVQQI",
        "outputId": "1d4f8319-c326-40db-c92b-f83ea77f8d23"
      },
      "outputs": [
        {
          "output_type": "stream",
          "name": "stdout",
          "text": [
            "Average Clustering Coefficient: 0.5706384782076823\n"
          ]
        }
      ],
      "source": [
        "import networkx as nx\n",
        "\n",
        "# Load the Zachary's Karate Club graph\n",
        "G = nx.karate_club_graph()\n",
        "\n",
        "# Analyze the graph to establish higher-order relationships\n",
        "# For example, we can calculate the clustering coefficient\n",
        "clustering_coefficient = nx.average_clustering(G)\n",
        "print(\"Average Clustering Coefficient:\", clustering_coefficient)\n"
      ]
    }
  ]
}